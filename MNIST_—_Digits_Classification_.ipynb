{
  "nbformat": 4,
  "nbformat_minor": 0,
  "metadata": {
    "colab": {
      "name": "MNIST — Digits Classification .ipynb",
      "provenance": [],
      "authorship_tag": "ABX9TyPlICcNm7Ed+JEirO45VbPs",
      "include_colab_link": true
    },
    "kernelspec": {
      "name": "python3",
      "display_name": "Python 3"
    },
    "accelerator": "TPU"
  },
  "cells": [
    {
      "cell_type": "markdown",
      "metadata": {
        "id": "view-in-github",
        "colab_type": "text"
      },
      "source": [
        "<a href=\"https://colab.research.google.com/github/Suhit97/Vision_SAM/blob/master/MNIST_%E2%80%94_Digits_Classification_.ipynb\" target=\"_parent\"><img src=\"https://colab.research.google.com/assets/colab-badge.svg\" alt=\"Open In Colab\"/></a>"
      ]
    },
    {
      "cell_type": "code",
      "metadata": {
        "id": "8AwPix7ItrdU",
        "colab_type": "code",
        "colab": {
          "base_uri": "https://localhost:8080/",
          "height": 129
        },
        "outputId": "4e959301-7c7e-4d0a-b741-cdb8d28c9b79"
      },
      "source": [
        "from google.colab import drive\n",
        "drive.mount('/content/gdrive')"
      ],
      "execution_count": 1,
      "outputs": [
        {
          "output_type": "stream",
          "text": [
            "Go to this URL in a browser: https://accounts.google.com/o/oauth2/auth?client_id=947318989803-6bn6qk8qdgf4n4g3pfee6491hc0brc4i.apps.googleusercontent.com&redirect_uri=urn%3aietf%3awg%3aoauth%3a2.0%3aoob&response_type=code&scope=email%20https%3a%2f%2fwww.googleapis.com%2fauth%2fdocs.test%20https%3a%2f%2fwww.googleapis.com%2fauth%2fdrive%20https%3a%2f%2fwww.googleapis.com%2fauth%2fdrive.photos.readonly%20https%3a%2f%2fwww.googleapis.com%2fauth%2fpeopleapi.readonly\n",
            "\n",
            "Enter your authorization code:\n",
            "··········\n",
            "Mounted at /content/gdrive\n"
          ],
          "name": "stdout"
        }
      ]
    },
    {
      "cell_type": "code",
      "metadata": {
        "id": "A2DI656kuYj5",
        "colab_type": "code",
        "colab": {
          "base_uri": "https://localhost:8080/",
          "height": 35
        },
        "outputId": "0674b536-2d3b-4490-d50d-53bd76eb906f"
      },
      "source": [
        "# TensorFlow and tf.keras\n",
        "import tensorflow as tf\n",
        "from tensorflow import keras\n",
        "\n",
        "# Helper libraries\n",
        "import numpy as np\n",
        "import matplotlib.pyplot as plt\n",
        "\n",
        "print(tf.__version__)\n"
      ],
      "execution_count": 2,
      "outputs": [
        {
          "output_type": "stream",
          "text": [
            "1.15.0\n"
          ],
          "name": "stdout"
        }
      ]
    },
    {
      "cell_type": "markdown",
      "metadata": {
        "id": "hcg7ndn6vR-j",
        "colab_type": "text"
      },
      "source": [
        "## LOADING MNIST DATASET\n",
        "The MNIST dataset is an image dataset of handwritten digits made available by Yann LeCun et. al. here. It has has 60,000 training images and 10,000 test images, each of which are grayscale 28 x 28 sized images.Keras library already provides a database of these digits in its keras.datasets module. We are going to use it from this module, to save some pre-processing time.\n"
      ]
    },
    {
      "cell_type": "code",
      "metadata": {
        "id": "iKXar4eRvGRr",
        "colab_type": "code",
        "colab": {
          "base_uri": "https://localhost:8080/",
          "height": 72
        },
        "outputId": "714cf3fe-4e3d-4469-fee6-7374d2e069ea"
      },
      "source": [
        "from keras.datasets.mnist import load_data\n",
        "\n",
        "# load the data - it returns 2 tuples of digits & labels - one for\n",
        "# the train set & the other for the test set\n",
        "(train_digits, train_labels), (test_digits, test_labels) = load_data()\n",
        "\n"
      ],
      "execution_count": 3,
      "outputs": [
        {
          "output_type": "stream",
          "text": [
            "Using TensorFlow backend.\n"
          ],
          "name": "stderr"
        },
        {
          "output_type": "stream",
          "text": [
            "Downloading data from https://s3.amazonaws.com/img-datasets/mnist.npz\n",
            "11493376/11490434 [==============================] - 0s 0us/step\n"
          ],
          "name": "stdout"
        }
      ]
    },
    {
      "cell_type": "markdown",
      "metadata": {
        "id": "1uJmtDO5wLU5",
        "colab_type": "text"
      },
      "source": [
        "##Explore the data"
      ]
    },
    {
      "cell_type": "code",
      "metadata": {
        "id": "kzXhWwZ7wPPJ",
        "colab_type": "code",
        "colab": {
          "base_uri": "https://localhost:8080/",
          "height": 35
        },
        "outputId": "1671d3fc-1b9d-432d-8057-8d60bb7fa825"
      },
      "source": [
        "train_digits.shape"
      ],
      "execution_count": 5,
      "outputs": [
        {
          "output_type": "execute_result",
          "data": {
            "text/plain": [
              "(60000, 28, 28)"
            ]
          },
          "metadata": {
            "tags": []
          },
          "execution_count": 5
        }
      ]
    },
    {
      "cell_type": "code",
      "metadata": {
        "id": "9dIba33ywlMG",
        "colab_type": "code",
        "colab": {
          "base_uri": "https://localhost:8080/",
          "height": 35
        },
        "outputId": "2ca4d5cb-5aa4-47ff-80e7-bc1bdfc85ab1"
      },
      "source": [
        "test_digits.shape"
      ],
      "execution_count": 6,
      "outputs": [
        {
          "output_type": "execute_result",
          "data": {
            "text/plain": [
              "(10000, 28, 28)"
            ]
          },
          "metadata": {
            "tags": []
          },
          "execution_count": 6
        }
      ]
    },
    {
      "cell_type": "code",
      "metadata": {
        "id": "hRj_8Q05yiFu",
        "colab_type": "code",
        "colab": {
          "base_uri": "https://localhost:8080/",
          "height": 589
        },
        "outputId": "c32649c1-9cf9-485a-99b9-96a026fe66fd"
      },
      "source": [
        "plt.figure(figsize=(10,10))\n",
        "for i in range(25):\n",
        "    plt.subplot(5,5,i+1)\n",
        "    plt.xticks([])\n",
        "    plt.yticks([])\n",
        "    plt.grid(False)\n",
        "    plt.imshow(train_digits[i], cmap='gray')\n",
        "    plt.xlabel(train_labels[i])\n",
        "plt.show()\n"
      ],
      "execution_count": 16,
      "outputs": [
        {
          "output_type": "display_data",
          "data": {
            "image/png": "[encoded data removed]",
            "text/plain": [
              "<Figure size 720x720 with 25 Axes>"
            ]
          },
          "metadata": {
            "tags": []
          }
        }
      ]
    },
    {
      "cell_type": "markdown",
      "metadata": {
        "id": "sNBJRBT5zu1d",
        "colab_type": "text"
      },
      "source": [
        "##Preprocess the data\n",
        "\n",
        "The data must be preprocessed before training the network. If you inspect the first image in the training set, you will see that the pixel values fall in the range of 0 to 255:\n"
      ]
    },
    {
      "cell_type": "code",
      "metadata": {
        "id": "Pt62cEHdwRRN",
        "colab_type": "code",
        "colab": {
          "base_uri": "https://localhost:8080/",
          "height": 265
        },
        "outputId": "b58056f5-6d6a-42e3-b390-0824f4cd9c70"
      },
      "source": [
        "plt.figure()\n",
        "plt.imshow(train_digits[0])\n",
        "plt.colorbar()\n",
        "plt.grid(False)\n",
        "plt.show()\n"
      ],
      "execution_count": 7,
      "outputs": [
        {
          "output_type": "display_data",
          "data": {
            "image/png": "[encoded data removed]",
            "text/plain": [
              "<Figure size 432x288 with 2 Axes>"
            ]
          },
          "metadata": {
            "tags": []
          }
        }
      ]
    },
    {
      "cell_type": "code",
      "metadata": {
        "id": "GQ6xqQEPzn51",
        "colab_type": "code",
        "colab": {}
      },
      "source": [
        "train_digits = train_digits / 255.0\n",
        "\n",
        "test_digits = test_digits / 255.0\n"
      ],
      "execution_count": 0,
      "outputs": []
    },
    {
      "cell_type": "code",
      "metadata": {
        "id": "33KacEiT0Luv",
        "colab_type": "code",
        "colab": {
          "base_uri": "https://localhost:8080/",
          "height": 317
        },
        "outputId": "103bd313-b070-4ad5-cf92-1d6b70cda7a3"
      },
      "source": [
        "plt.figure(figsize=(5,5))\n",
        "for i in range(9):\n",
        "    plt.subplot(3,3,i+1)\n",
        "    plt.xticks([])\n",
        "    plt.yticks([])\n",
        "    plt.grid(False)\n",
        "    plt.imshow(train_digits[i], cmap=plt.cm.binary)\n",
        "    plt.xlabel(train_labels[i])\n",
        "plt.show()\n"
      ],
      "execution_count": 20,
      "outputs": [
        {
          "output_type": "display_data",
          "data": {
            "image/png": "[encoded data removed]",
            "text/plain": [
              "<Figure size 360x360 with 9 Axes>"
            ]
          },
          "metadata": {
            "tags": []
          }
        }
      ]
    },
    {
      "cell_type": "code",
      "metadata": {
        "id": "2pM805OM0ho2",
        "colab_type": "code",
        "colab": {
          "base_uri": "https://localhost:8080/",
          "height": 35
        },
        "outputId": "f7842832-220a-441d-c54c-e6fb81acceca"
      },
      "source": [
        "\n",
        "# re-shape the images data\n",
        "train_data = np.reshape(train_digits, (train_digits.shape[0], image_height, image_width, num_channels))\n",
        "test_data = np.reshape(test_digits, (test_digits.shape[0],image_height, image_width, num_channels))\n",
        "\n",
        "\n",
        "# one-hot encode the labels - we have 10 output classes\n",
        "# so 3 -> [0 0 0 1 0 0 0 0 0 0], 5 -> [0 0 0 0 0 1 0 0 0 0] & so on\n",
        "from keras.utils import to_categorical\n",
        "num_classes = 10\n",
        "train_labels_cat = to_categorical(train_labels,num_classes)\n",
        "test_labels_cat = to_categorical(test_labels,num_classes)\n",
        "train_labels_cat.shape, test_labels_cat.shape"
      ],
      "execution_count": 28,
      "outputs": [
        {
          "output_type": "execute_result",
          "data": {
            "text/plain": [
              "((60000, 10), (10000, 10))"
            ]
          },
          "metadata": {
            "tags": []
          },
          "execution_count": 28
        }
      ]
    },
    {
      "cell_type": "code",
      "metadata": {
        "id": "Ysnvv7-63uC3",
        "colab_type": "code",
        "colab": {}
      },
      "source": [
        "image_height = train_digits.shape[1]  \n",
        "image_width = train_digits.shape[2]\n",
        "num_channels = 1  # we have grayscale images\n",
        "# NOTE: image_height == image_width == 28"
      ],
      "execution_count": 0,
      "outputs": []
    },
    {
      "cell_type": "code",
      "metadata": {
        "id": "GosDK8zX2OBU",
        "colab_type": "code",
        "colab": {}
      },
      "source": [
        "# shuffle the training dataset (5 times!)\n",
        "for _ in range(5): \n",
        "    indexes = np.random.permutation(len(train_data))\n",
        "\n",
        "train_data = train_data[indexes]\n",
        "train_labels_cat = train_labels_cat[indexes]\n",
        "\n",
        "# now set-aside 10% of the train_data/labels as the\n",
        "# cross-validation sets\n",
        "val_perc = 0.10\n",
        "val_count = int(val_perc * len(train_data))\n",
        "\n",
        "# first pick validation set from train_data/labels\n",
        "val_data = train_data[:val_count,:]\n",
        "val_labels_cat = train_labels_cat[:val_count,:]\n",
        "\n",
        "# leave rest in training set\n",
        "train_data2 = train_data[val_count:,:]\n",
        "train_labels_cat2 = train_labels_cat[val_count:,:]\n",
        "# NOTE: We will train on train_data2/train_labels_cat2 and \n"
      ],
      "execution_count": 0,
      "outputs": []
    },
    {
      "cell_type": "markdown",
      "metadata": {
        "id": "tuJxv-fk1xja",
        "colab_type": "text"
      },
      "source": [
        "##Build the model\n",
        "\n",
        "Building the neural network requires configuring the layers of the model, then compiling the model."
      ]
    },
    {
      "cell_type": "code",
      "metadata": {
        "id": "8oNvg7tl1w1N",
        "colab_type": "code",
        "colab": {
          "base_uri": "https://localhost:8080/",
          "height": 513
        },
        "outputId": "f1a822bc-d9e6-48c8-9004-207b02a40621"
      },
      "source": [
        "from keras.models import Sequential\n",
        "from keras.layers import Conv2D, MaxPooling2D, Flatten, Dense, Dropout\n",
        "\n",
        "def build_model():\n",
        "    model = Sequential()\n",
        "    # add Convolutional layers\n",
        "    model.add(Conv2D(filters=32, kernel_size=(3,3), activation='relu', padding='same',\n",
        "                     input_shape=(image_height, image_width, num_channels)))\n",
        "    model.add(MaxPooling2D(pool_size=(2,2)))\n",
        "    model.add(Conv2D(filters=64, kernel_size=(3,3), activation='relu', padding='same'))\n",
        "    model.add(MaxPooling2D(pool_size=(2,2)))\n",
        "    model.add(Conv2D(filters=64, kernel_size=(3,3), activation='relu', padding='same'))\n",
        "    model.add(MaxPooling2D(pool_size=(2,2)))    \n",
        "    model.add(Flatten())\n",
        "    # Densely connected layers\n",
        "    model.add(Dense(128, activation='relu'))\n",
        "    # output layer\n",
        "    model.add(Dense(num_classes, activation='softmax'))\n",
        "    # compile with adam optimizer & categorical_crossentropy loss function\n",
        "    model.compile(optimizer='adam', loss='categorical_crossentropy', metrics=['accuracy'])\n",
        "    return model\n",
        "\n",
        "model = build_model()\n",
        "print(model.summary())"
      ],
      "execution_count": 33,
      "outputs": [
        {
          "output_type": "stream",
          "text": [
            "Model: \"sequential_4\"\n",
            "_________________________________________________________________\n",
            "Layer (type)                 Output Shape              Param #   \n",
            "=================================================================\n",
            "conv2d_7 (Conv2D)            (None, 28, 28, 32)        320       \n",
            "_________________________________________________________________\n",
            "max_pooling2d_7 (MaxPooling2 (None, 14, 14, 32)        0         \n",
            "_________________________________________________________________\n",
            "conv2d_8 (Conv2D)            (None, 14, 14, 64)        18496     \n",
            "_________________________________________________________________\n",
            "max_pooling2d_8 (MaxPooling2 (None, 7, 7, 64)          0         \n",
            "_________________________________________________________________\n",
            "conv2d_9 (Conv2D)            (None, 7, 7, 64)          36928     \n",
            "_________________________________________________________________\n",
            "max_pooling2d_9 (MaxPooling2 (None, 3, 3, 64)          0         \n",
            "_________________________________________________________________\n",
            "flatten_3 (Flatten)          (None, 576)               0         \n",
            "_________________________________________________________________\n",
            "dense_5 (Dense)              (None, 128)               73856     \n",
            "_________________________________________________________________\n",
            "dense_6 (Dense)              (None, 10)                1290      \n",
            "=================================================================\n",
            "Total params: 130,890\n",
            "Trainable params: 130,890\n",
            "Non-trainable params: 0\n",
            "_________________________________________________________________\n",
            "None\n"
          ],
          "name": "stdout"
        }
      ]
    },
    {
      "cell_type": "markdown",
      "metadata": {
        "id": "xJXJ-YjmKD-E",
        "colab_type": "text"
      },
      "source": [
        "##Train the model"
      ]
    },
    {
      "cell_type": "code",
      "metadata": {
        "id": "6hxB0DF_R0Jd",
        "colab_type": "code",
        "colab": {}
      },
      "source": [
        ""
      ],
      "execution_count": 0,
      "outputs": []
    },
    {
      "cell_type": "code",
      "metadata": {
        "id": "Z-8UFWBzJ2th",
        "colab_type": "code",
        "colab": {
          "base_uri": "https://localhost:8080/",
          "height": 955
        },
        "outputId": "80e4b9f9-cfe1-4e24-c1a1-267bf18106e5"
      },
      "source": [
        "results = model.fit(train_data2, train_labels_cat2, epochs=15, batch_size=64,validation_data=(val_data, val_labels_cat))"
      ],
      "execution_count": 34,
      "outputs": [
        {
          "output_type": "stream",
          "text": [
            "WARNING:tensorflow:From /usr/local/lib/python3.6/dist-packages/tensorflow_core/python/ops/math_grad.py:1424: where (from tensorflow.python.ops.array_ops) is deprecated and will be removed in a future version.\n",
            "Instructions for updating:\n",
            "Use tf.where in 2.0, which has the same broadcast rule as np.where\n",
            "WARNING:tensorflow:From /usr/local/lib/python3.6/dist-packages/keras/backend/tensorflow_backend.py:1033: The name tf.assign_add is deprecated. Please use tf.compat.v1.assign_add instead.\n",
            "\n",
            "WARNING:tensorflow:From /usr/local/lib/python3.6/dist-packages/keras/backend/tensorflow_backend.py:1020: The name tf.assign is deprecated. Please use tf.compat.v1.assign instead.\n",
            "\n",
            "WARNING:tensorflow:From /usr/local/lib/python3.6/dist-packages/keras/backend/tensorflow_backend.py:3005: The name tf.Session is deprecated. Please use tf.compat.v1.Session instead.\n",
            "\n",
            "Train on 54000 samples, validate on 6000 samples\n",
            "Epoch 1/15\n",
            "WARNING:tensorflow:From /usr/local/lib/python3.6/dist-packages/keras/backend/tensorflow_backend.py:190: The name tf.get_default_session is deprecated. Please use tf.compat.v1.get_default_session instead.\n",
            "\n",
            "WARNING:tensorflow:From /usr/local/lib/python3.6/dist-packages/keras/backend/tensorflow_backend.py:197: The name tf.ConfigProto is deprecated. Please use tf.compat.v1.ConfigProto instead.\n",
            "\n",
            "WARNING:tensorflow:From /usr/local/lib/python3.6/dist-packages/keras/backend/tensorflow_backend.py:207: The name tf.global_variables is deprecated. Please use tf.compat.v1.global_variables instead.\n",
            "\n",
            "WARNING:tensorflow:From /usr/local/lib/python3.6/dist-packages/keras/backend/tensorflow_backend.py:216: The name tf.is_variable_initialized is deprecated. Please use tf.compat.v1.is_variable_initialized instead.\n",
            "\n",
            "WARNING:tensorflow:From /usr/local/lib/python3.6/dist-packages/keras/backend/tensorflow_backend.py:223: The name tf.variables_initializer is deprecated. Please use tf.compat.v1.variables_initializer instead.\n",
            "\n",
            "54000/54000 [==============================] - 78s 1ms/step - loss: 2.3018 - acc: 0.1117 - val_loss: 2.3018 - val_acc: 0.1115\n",
            "Epoch 2/15\n",
            "54000/54000 [==============================] - 77s 1ms/step - loss: 2.3015 - acc: 0.1125 - val_loss: 2.3014 - val_acc: 0.1115\n",
            "Epoch 3/15\n",
            "54000/54000 [==============================] - 78s 1ms/step - loss: 2.3013 - acc: 0.1123 - val_loss: 2.3015 - val_acc: 0.1115\n",
            "Epoch 4/15\n",
            "54000/54000 [==============================] - 77s 1ms/step - loss: 2.3014 - acc: 0.1124 - val_loss: 2.3015 - val_acc: 0.1115\n",
            "Epoch 5/15\n",
            "54000/54000 [==============================] - 77s 1ms/step - loss: 2.3014 - acc: 0.1125 - val_loss: 2.3014 - val_acc: 0.1115\n",
            "Epoch 6/15\n",
            "54000/54000 [==============================] - 77s 1ms/step - loss: 2.3013 - acc: 0.1125 - val_loss: 2.3013 - val_acc: 0.1115\n",
            "Epoch 7/15\n",
            "54000/54000 [==============================] - 77s 1ms/step - loss: 2.3013 - acc: 0.1125 - val_loss: 2.3014 - val_acc: 0.1115\n",
            "Epoch 8/15\n",
            "54000/54000 [==============================] - 77s 1ms/step - loss: 2.3013 - acc: 0.1125 - val_loss: 2.3012 - val_acc: 0.1115\n",
            "Epoch 9/15\n",
            "54000/54000 [==============================] - 77s 1ms/step - loss: 2.3013 - acc: 0.1125 - val_loss: 2.3014 - val_acc: 0.1115\n",
            "Epoch 10/15\n",
            "54000/54000 [==============================] - 77s 1ms/step - loss: 2.3013 - acc: 0.1125 - val_loss: 2.3015 - val_acc: 0.1115\n",
            "Epoch 11/15\n",
            "54000/54000 [==============================] - 78s 1ms/step - loss: 2.3013 - acc: 0.1125 - val_loss: 2.3014 - val_acc: 0.1115\n",
            "Epoch 12/15\n",
            "54000/54000 [==============================] - 77s 1ms/step - loss: 2.3013 - acc: 0.1125 - val_loss: 2.3015 - val_acc: 0.1115\n",
            "Epoch 13/15\n",
            "54000/54000 [==============================] - 77s 1ms/step - loss: 2.3013 - acc: 0.1125 - val_loss: 2.3014 - val_acc: 0.1115\n",
            "Epoch 14/15\n",
            "54000/54000 [==============================] - 77s 1ms/step - loss: 2.3013 - acc: 0.1125 - val_loss: 2.3012 - val_acc: 0.1115\n",
            "Epoch 15/15\n",
            "54000/54000 [==============================] - 78s 1ms/step - loss: 2.3013 - acc: 0.1125 - val_loss: 2.3014 - val_acc: 0.1115\n"
          ],
          "name": "stdout"
        }
      ]
    },
    {
      "cell_type": "code",
      "metadata": {
        "id": "3qfz_9g0RGrD",
        "colab_type": "code",
        "colab": {
          "base_uri": "https://localhost:8080/",
          "height": 209
        },
        "outputId": "6095b107-199b-4467-ddb8-a0b7de35e042"
      },
      "source": [
        "test_loss, test_acc = results.evaluate(test_digits,  test_labels, verbose=2)\n",
        "\n",
        "print('\\nTest accuracy:', test_acc)\n"
      ],
      "execution_count": 38,
      "outputs": [
        {
          "output_type": "error",
          "ename": "AttributeError",
          "evalue": "ignored",
          "traceback": [
            "\u001b[0;31m---------------------------------------------------------------------------\u001b[0m",
            "\u001b[0;31mAttributeError\u001b[0m                            Traceback (most recent call last)",
            "\u001b[0;32m<ipython-input-38-6df6821358b8>\u001b[0m in \u001b[0;36m<module>\u001b[0;34m()\u001b[0m\n\u001b[0;32m----> 1\u001b[0;31m \u001b[0mtest_loss\u001b[0m\u001b[0;34m,\u001b[0m \u001b[0mtest_acc\u001b[0m \u001b[0;34m=\u001b[0m \u001b[0mresults\u001b[0m\u001b[0;34m.\u001b[0m\u001b[0mevaluate\u001b[0m\u001b[0;34m(\u001b[0m\u001b[0mtest_digits\u001b[0m\u001b[0;34m,\u001b[0m  \u001b[0mtest_labels\u001b[0m\u001b[0;34m,\u001b[0m \u001b[0mverbose\u001b[0m\u001b[0;34m=\u001b[0m\u001b[0;36m2\u001b[0m\u001b[0;34m)\u001b[0m\u001b[0;34m\u001b[0m\u001b[0;34m\u001b[0m\u001b[0m\n\u001b[0m\u001b[1;32m      2\u001b[0m \u001b[0;34m\u001b[0m\u001b[0m\n\u001b[1;32m      3\u001b[0m \u001b[0mprint\u001b[0m\u001b[0;34m(\u001b[0m\u001b[0;34m'\\nTest accuracy:'\u001b[0m\u001b[0;34m,\u001b[0m \u001b[0mtest_acc\u001b[0m\u001b[0;34m)\u001b[0m\u001b[0;34m\u001b[0m\u001b[0;34m\u001b[0m\u001b[0m\n",
            "\u001b[0;31mAttributeError\u001b[0m: 'History' object has no attribute 'evaluate'"
          ]
        }
      ]
    },
    {
      "cell_type": "code",
      "metadata": {
        "id": "mbIWxJDGQwum",
        "colab_type": "code",
        "colab": {
          "base_uri": "https://localhost:8080/",
          "height": 135
        },
        "outputId": "cf5914ad-de7a-4fa0-d417-e0e172dfa8a6"
      },
      "source": [
        "from __future__ import show_plots"
      ],
      "execution_count": 36,
      "outputs": [
        {
          "output_type": "error",
          "ename": "SyntaxError",
          "evalue": "ignored",
          "traceback": [
            "\u001b[0;36m  File \u001b[0;32m\"<ipython-input-36-317ebc04a23f>\"\u001b[0;36m, line \u001b[0;32m1\u001b[0m\n\u001b[0;31m    from __future__ import show_plots\u001b[0m\n\u001b[0m                                     ^\u001b[0m\n\u001b[0;31mSyntaxError\u001b[0m\u001b[0;31m:\u001b[0m future feature show_plots is not defined\n"
          ]
        }
      ]
    },
    {
      "cell_type": "code",
      "metadata": {
        "id": "RMXm6pqFQFhI",
        "colab_type": "code",
        "colab": {
          "base_uri": "https://localhost:8080/",
          "height": 1000
        },
        "outputId": "996b51e7-38b5-4863-be35-17a1ace29bf5"
      },
      "source": [
        "results.history"
      ],
      "execution_count": 39,
      "outputs": [
        {
          "output_type": "execute_result",
          "data": {
            "text/plain": [
              "{'acc': [0.11170370370370371,\n",
              "  0.11246296296296296,\n",
              "  0.11233333333333333,\n",
              "  0.11240740740740741,\n",
              "  0.11246296296296296,\n",
              "  0.11246296296406676,\n",
              "  0.11246296296406676,\n",
              "  0.11246296296296296,\n",
              "  0.11246296296296296,\n",
              "  0.11246296296737812,\n",
              "  0.11246296296075538,\n",
              "  0.11246296295854781,\n",
              "  0.11246296296296296,\n",
              "  0.11246296296517054,\n",
              "  0.11246296296075538],\n",
              " 'loss': [2.3018240655263265,\n",
              "  2.3014587353600398,\n",
              "  2.3013372509567827,\n",
              "  2.301433390652692,\n",
              "  2.301372846179538,\n",
              "  2.3013269458346897,\n",
              "  2.301296909261633,\n",
              "  2.301285355815181,\n",
              "  2.301321403220848,\n",
              "  2.301291868774979,\n",
              "  2.3012806323722557,\n",
              "  2.3012838241435865,\n",
              "  2.301277778696131,\n",
              "  2.301279109813549,\n",
              "  2.3012839067247177],\n",
              " 'val_acc': [0.1115,\n",
              "  0.1115,\n",
              "  0.1115,\n",
              "  0.1115,\n",
              "  0.1115,\n",
              "  0.1115,\n",
              "  0.1115,\n",
              "  0.1115,\n",
              "  0.1115,\n",
              "  0.1115,\n",
              "  0.1115,\n",
              "  0.1115,\n",
              "  0.1115,\n",
              "  0.1115,\n",
              "  0.1115],\n",
              " 'val_loss': [2.301836908976237,\n",
              "  2.3013751424153646,\n",
              "  2.3014971459706626,\n",
              "  2.3015067882537843,\n",
              "  2.301370320002238,\n",
              "  2.301339678446452,\n",
              "  2.3014064960479734,\n",
              "  2.301240271250407,\n",
              "  2.3013736731211343,\n",
              "  2.3015103810628257,\n",
              "  2.3014258874257405,\n",
              "  2.301498591105143,\n",
              "  2.301438445409139,\n",
              "  2.3012321135203044,\n",
              "  2.301377004623413]}"
            ]
          },
          "metadata": {
            "tags": []
          },
          "execution_count": 39
        }
      ]
    }
  ]
}